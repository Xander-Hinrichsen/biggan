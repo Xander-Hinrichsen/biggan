{
 "cells": [
  {
   "cell_type": "code",
   "execution_count": null,
   "metadata": {},
   "outputs": [],
   "source": [
    "import os\n",
    "os.environ['KMP_DUPLICATE_LIB_OK']='True'\n",
    "import torch\n",
    "import torch.nn as nn\n",
    "import torchvision\n",
    "import torchvision.transforms as Tfs\n",
    "import matplotlib.pyplot as plt\n",
    "import torchvision.models as models\n",
    "import numpy as np\n",
    "from PIL import Image"
   ]
  },
  {
   "cell_type": "code",
   "execution_count": null,
   "metadata": {},
   "outputs": [],
   "source": [
    "#import wandb\n",
    "#wandb.init(project='ganstuff')"
   ]
  },
  {
   "cell_type": "code",
   "execution_count": null,
   "metadata": {},
   "outputs": [],
   "source": [
    "from models.DeepGan import DeepGAN"
   ]
  },
  {
   "cell_type": "code",
   "execution_count": null,
   "metadata": {},
   "outputs": [],
   "source": [
    "device = torch.device('cuda' if torch.cuda.is_available() else 'cpu')\n",
    "device"
   ]
  },
  {
   "cell_type": "code",
   "execution_count": null,
   "metadata": {},
   "outputs": [],
   "source": [
    "transforms = Tfs.Compose([\n",
    "    Tfs.ToTensor(),\n",
    "    Tfs.Normalize((0.5,0.5,0.5), (0.5, 0.5, 0.5))\n",
    "])\n",
    "tds = torchvision.datasets.CIFAR10(root='./data', train=True, download=True, transform=transforms)\n",
    "valds = torchvision.datasets.CIFAR10(root='./data', train=False, download=True, transform=transforms)"
   ]
  },
  {
   "cell_type": "code",
   "execution_count": null,
   "metadata": {},
   "outputs": [],
   "source": [
    "classes = ['plane','car','bird','cat','deer','dog','frog','horse','boat','truck']"
   ]
  },
  {
   "cell_type": "code",
   "execution_count": null,
   "metadata": {},
   "outputs": [],
   "source": [
    "idx = -141\n",
    "plt.imshow(0.5*(tds[idx][0].permute(1,2,0)) + 0.5), tds[idx][1]"
   ]
  },
  {
   "cell_type": "code",
   "execution_count": null,
   "metadata": {},
   "outputs": [],
   "source": [
    "def print_gpu_mem():\n",
    "    print(f'{(torch.cuda.memory_allocated(device) / (1024**3)):.2f}', '/',\n",
    "         f'{(torch.cuda.get_device_properties(device).total_memory/1024**3):.2f}', 'GBs')"
   ]
  },
  {
   "cell_type": "code",
   "execution_count": null,
   "metadata": {},
   "outputs": [],
   "source": [
    "def unroll_batch(batch, num_rows, num_cols):\n",
    "    rows = []\n",
    "    num_rows = num_rows\n",
    "    num_cols = num_cols\n",
    "    for i in range(num_rows):\n",
    "        for j in range(num_cols):\n",
    "            if j== 0:\n",
    "                rows.append(batch[(i*num_cols),:,:,:].view(batch.shape[1],batch.shape[2],batch.shape[3]))\n",
    "            else:\n",
    "                rows[i] = torch.cat((rows[i], batch[(i*num_cols + j),:,:,:].view(batch.shape[1],batch.shape[2],batch.shape[3])), dim=2)\n",
    "\n",
    "    for i in range(1, len(rows)):\n",
    "        rows[0] = torch.cat((rows[0], rows[i]), dim=1)\n",
    "    return rows[0] \n",
    "        "
   ]
  },
  {
   "cell_type": "code",
   "execution_count": null,
   "metadata": {},
   "outputs": [],
   "source": [
    "num_classes = 2"
   ]
  },
  {
   "cell_type": "code",
   "execution_count": null,
   "metadata": {},
   "outputs": [],
   "source": [
    "def train(model, Dlr, Glr, epochs, batch_size, tds, valds):\n",
    "    model.to(device).train()\n",
    "    tdl = torch.utils.data.DataLoader(tds, batch_size=batch_size, shuffle=True, drop_last=True)\n",
    "    vdl = torch.utils.data.DataLoader(valds, batch_size=batch_size, shuffle=False, drop_last=True)\n",
    "\n",
    "    ##make optimizers for both D and G\n",
    "    D_optim = torch.optim.Adam(model.D.parameters(), lr=Dlr)\n",
    "    G_optim = torch.optim.Adam(model.G.parameters(), lr=Glr)\n",
    "    \n",
    "    train_dloss = []\n",
    "    val_dloss = []\n",
    "    train_gloss = []\n",
    "    val_gloss = []\n",
    "\n",
    "    train_dacc = []\n",
    "    val_dacc = []\n",
    "    train_gacc = []\n",
    "    val_gacc = []\n",
    "    for epoch in range(epochs):\n",
    "        train_dloss_batch = []\n",
    "        val_dloss_batch = []\n",
    "        train_gloss_batch = []\n",
    "        val_gloss_batch = []\n",
    "\n",
    "        train_dacc_batch = []\n",
    "        val_dacc_batch = []\n",
    "        train_gacc_batch = []\n",
    "        val_gacc_batch = []\n",
    "        model.train()\n",
    "        for xb, labels in tdl:\n",
    "            xb = xb.to(device)\n",
    "            labels = labels.to(device)\n",
    "            D_optim.zero_grad()\n",
    "            d_loss, d_acc = model.D_trainstep(xb, labels, batch_size, D_optim)\n",
    "            G_optim.zero_grad()\n",
    "            g_loss, g_acc, gen_imgs = model.G_trainstep(batch_size, G_optim, num_samples=1)\n",
    "            D_optim.zero_grad()\n",
    "            d_loss, d_acc = model.D_trainstep(xb, labels, batch_size, D_optim)\n",
    "\n",
    "            train_dloss_batch.append(d_loss.item())\n",
    "            train_gloss_batch.append(g_loss.item())\n",
    "            train_dacc_batch.append(d_acc)\n",
    "            train_gacc_batch.append(g_acc)\n",
    "            \n",
    "            del(xb); del(labels); del(gen_imgs)\n",
    "            torch.cuda.empty_cache()\n",
    "\n",
    "        model.eval()\n",
    "        with torch.no_grad():\n",
    "            for idx, (vxb, vlabels) in enumerate(vdl):\n",
    "                vxb = vxb.to(device)\n",
    "                vlabels = vlabels.to(device)\n",
    "                vd_loss, vd_acc = model.D_valstep(vxb, vlabels, batch_size)\n",
    "\n",
    "                val_dloss_batch.append(vd_loss.item())\n",
    "                val_dacc_batch.append(vd_acc)\n",
    "\n",
    "                if idx == len(vdl) - 1:\n",
    "                  ##print reconstruction validation example\n",
    "                  ##create new images\n",
    "                  generated = model.G(torch.randn(num_classes*4,model.zdim).to(device), (torch.arange(num_classes*4) % num_classes).long().to(device))\n",
    "                  generated = unroll_batch(generated, 4, num_classes)\n",
    "                  plt.imshow(0.5*generated.to('cpu').permute(1,2,0) + 0.5); plt.show()\n",
    "                  gimg = Image.fromarray(np.array((generated.to('cpu').permute(1,2,0)*255), dtype=np.uint8))\n",
    "                  #wandb.log({'generated_images':wandb.Image(gimg)})\n",
    "                  del(generated); del(gimg)\n",
    "        \n",
    "        train_dloss.append(np.mean(train_dloss_batch))\n",
    "        val_dloss.append(np.mean(val_dloss_batch))\n",
    "        train_gloss.append(np.mean(train_gloss_batch))\n",
    "\n",
    "        train_dacc.append(np.mean(train_dacc_batch))\n",
    "        val_dacc.append(np.mean(val_dacc_batch))\n",
    "        train_gacc.append(np.mean(train_gacc_batch))\n",
    "\n",
    "        print('Epoch', epoch+1, 'Train-D-Loss', f'{train_dloss[epoch]:.5f}',\n",
    "              'Train-D-Acc', f'{train_dacc[epoch]:.5f}')\n",
    "        print('Val-D-Loss', f'{val_dloss[epoch]:.5f}',\n",
    "              'Val-D-Acc', f'{val_dacc[epoch]:.5f}')\n",
    "        print('Train-G-Loss', f'{train_gloss[epoch]:.5f}',\n",
    "              'Train-G-Acc', f'{train_gacc[epoch]:.5f}')\n",
    "        #wandb.log({\"train_loss_512Latent\": np.mean(losses), \"val_loss_512Latent\": np.mean(val_losses)})\n",
    "        if (epoch + 1 <= 5): \n",
    "            print_gpu_mem()"
   ]
  },
  {
   "cell_type": "code",
   "execution_count": null,
   "metadata": {},
   "outputs": [],
   "source": [
    "model = DeepGAN(numclasses=num_classes, ch=32)"
   ]
  },
  {
   "cell_type": "code",
   "execution_count": null,
   "metadata": {},
   "outputs": [],
   "source": [
    "##hyperparams\n",
    "epochs = 1000\n",
    "batch_size = 512\n",
    "#lr = 0.001 - batchsize=1024, pretrainedresnet,sgd\n",
    "Dlr = 2*1e-4\n",
    "Glr = 5*1e-5"
   ]
  },
  {
   "cell_type": "code",
   "execution_count": null,
   "metadata": {},
   "outputs": [],
   "source": [
    "print_gpu_mem()"
   ]
  },
  {
   "cell_type": "code",
   "execution_count": null,
   "metadata": {},
   "outputs": [],
   "source": [
    "classes = [1, 7]\n",
    "new_ds = []\n",
    "for i in range(len(tds)):\n",
    "    if tds[i][1] in classes:\n",
    "        new_ds.append((tds[i][0], 0 if tds[i][1] == 1 else 1))"
   ]
  },
  {
   "cell_type": "code",
   "execution_count": null,
   "metadata": {},
   "outputs": [],
   "source": [
    "class Ds:\n",
    "    def __init__(self, ds):\n",
    "        self.ds = ds\n",
    "    def __getitem__(self, i):\n",
    "        return self.ds[i][0], self.ds[i][1]\n",
    "    def __len__(self):\n",
    "        return len(self.ds)"
   ]
  },
  {
   "cell_type": "code",
   "execution_count": null,
   "metadata": {},
   "outputs": [],
   "source": [
    "smallt, smallv = torch.utils.data.random_split(Ds(new_ds), [len(new_ds) - 520, 520])"
   ]
  },
  {
   "cell_type": "code",
   "execution_count": null,
   "metadata": {},
   "outputs": [],
   "source": [
    "train(model, Dlr, Glr, epochs, batch_size, smallt, smallv)"
   ]
  },
  {
   "cell_type": "code",
   "execution_count": null,
   "metadata": {},
   "outputs": [],
   "source": [
    "classes = ['plane','car','bird','cat','deer','dog','frog','horse','boat','truck']"
   ]
  },
  {
   "cell_type": "code",
   "execution_count": null,
   "metadata": {},
   "outputs": [],
   "source": [
    "model.G"
   ]
  },
  {
   "cell_type": "code",
   "execution_count": null,
   "metadata": {},
   "outputs": [],
   "source": [
    "torch.randint(low=1, high=5, size=(20,))"
   ]
  },
  {
   "cell_type": "code",
   "execution_count": null,
   "metadata": {},
   "outputs": [],
   "source": [
    "asdf = torch.randn(3,21)\n",
    "b = torch.argmax(asdf, dim=1)\n",
    "b"
   ]
  },
  {
   "cell_type": "code",
   "execution_count": null,
   "metadata": {},
   "outputs": [],
   "source": [
    "torch.save(model.state_dict(), 'horsecarembeddings.pt')"
   ]
  },
  {
   "cell_type": "code",
   "execution_count": null,
   "metadata": {},
   "outputs": [],
   "source": []
  }
 ],
 "metadata": {
  "kernelspec": {
   "display_name": "Python 3",
   "language": "python",
   "name": "python3"
  },
  "language_info": {
   "codemirror_mode": {
    "name": "ipython",
    "version": 3
   },
   "file_extension": ".py",
   "mimetype": "text/x-python",
   "name": "python",
   "nbconvert_exporter": "python",
   "pygments_lexer": "ipython3",
   "version": "3.10.9"
  },
  "orig_nbformat": 4
 },
 "nbformat": 4,
 "nbformat_minor": 2
}
